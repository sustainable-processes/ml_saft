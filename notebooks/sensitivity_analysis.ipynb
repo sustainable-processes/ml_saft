{
 "cells": [
  {
   "cell_type": "code",
   "execution_count": 1,
   "id": "fdbe6532-c6bd-41a6-96c6-2687aeaef5e8",
   "metadata": {},
   "outputs": [
    {
     "name": "stdout",
     "output_type": "stream",
     "text": [
      "The kedro.extras.extensions.ipython extension is already loaded. To reload it, use:\n",
      "  %reload_ext kedro.extras.extensions.ipython\n"
     ]
    }
   ],
   "source": [
    "%load_ext kedro.extras.extensions.ipython\n",
    "%reload_kedro"
   ]
  },
  {
   "cell_type": "code",
   "execution_count": 2,
   "id": "2af20dd7-849d-4e65-ad49-eed7c17173dd",
   "metadata": {},
   "outputs": [],
   "source": [
    "%load_ext autoreload\n",
    "%autoreload 2"
   ]
  },
  {
   "cell_type": "code",
   "execution_count": 3,
   "id": "352ea342-fbc1-465c-b1f7-3a03ed14a7b8",
   "metadata": {},
   "outputs": [],
   "source": [
    "from SALib.sample import sobol as sobol_sample\n",
    "from SALib.sample import saltelli\n",
    "from SALib.analyze import sobol\n",
    "from SALib.test_functions import Ishigami\n",
    "import numpy as np\n",
    "from rdkit import Chem\n",
    "from rdkit.Chem.Descriptors import ExactMolWt\n",
    "from feos.eos.estimator import *\n",
    "from feos import eos\n",
    "from feos import si\n",
    "from feos import pcsaft\n",
    "from dl4thermo.extras.utils.pcsaft import (\n",
    "    create_pcsaft_parameters_from_model_predictions,\n",
    "    plot_pressure_density_phase_diagram\n",
    ")\n",
    "import seaborn as sns\n",
    "from tqdm import tqdm\n",
    "import pandas as pd\n",
    "import plotly.express as px\n",
    "from typing import Dict\n",
    "from datetime import datetime as dt\n",
    "import matplotlib.pyplot as plt"
   ]
  },
  {
   "cell_type": "markdown",
   "id": "3e133377-4339-4e27-85a1-fcf4113bacb9",
   "metadata": {},
   "source": [
    "## PCP SAFT data "
   ]
  },
  {
   "cell_type": "code",
   "execution_count": 4,
   "id": "2b59c9bc-34b1-40bb-bb3e-7b044c53d0f1",
   "metadata": {},
   "outputs": [
    {
     "name": "stdout",
     "output_type": "stream",
     "text": [
      "2023-02-28 17:49:19,101 - kedro.io.data_catalog - INFO - Loading data from 'pcp_saft_sepp_pure_parameters' (CSVDataSet)...\n"
     ]
    }
   ],
   "source": [
    "pcp_saft_sepp = catalog.load(\"pcp_saft_sepp_pure_parameters\")\n",
    "columns = [\"sigma\", \"m\", \"epsilon_k\", \"mu\", \"epsilonAB\", \"KAB\"]"
   ]
  },
  {
   "cell_type": "code",
   "execution_count": 5,
   "id": "99febd10-dbe7-414a-8125-b11621f07e58",
   "metadata": {},
   "outputs": [],
   "source": [
    "params_dict = create_pcsaft_parameters_from_model_predictions(\n",
    "    pcp_saft_sepp, smiles_column=\"smiles\"\n",
    ")"
   ]
  },
  {
   "cell_type": "markdown",
   "id": "23cba79d-0ef2-4106-b783-f0c5d28876b3",
   "metadata": {},
   "source": [
    "## FeOs PC-SAFT"
   ]
  },
  {
   "cell_type": "code",
   "execution_count": 10,
   "id": "7d505c85-5a28-4a5f-8437-97a7f9391b53",
   "metadata": {},
   "outputs": [
    {
     "name": "stdout",
     "output_type": "stream",
     "text": [
      "2023-02-28 18:29:24,024 - kedro.io.data_catalog - INFO - Loading data from 'dortmund_base_pure_component' (ParquetDataSet)...\n"
     ]
    }
   ],
   "source": [
    "dortmund = catalog.load(\"dortmund_base_pure_component\")\n",
    "dortmund_w_density = dortmund[dortmund[\"DEN\"].notnull()]"
   ]
  },
  {
   "cell_type": "code",
   "execution_count": 11,
   "id": "bea4643c-280f-4903-876d-2f55c8c002a7",
   "metadata": {},
   "outputs": [
    {
     "data": {
      "text/html": [
       "<pre style=\"white-space:pre;overflow-x:auto;line-height:normal;font-family:Menlo,'DejaVu Sans Mono',consolas,'Courier New',monospace\"><span style=\"color: #800000; text-decoration-color: #800000\">╭─────────────────────────────── </span><span style=\"color: #800000; text-decoration-color: #800000; font-weight: bold\">Traceback </span><span style=\"color: #bf7f7f; text-decoration-color: #bf7f7f; font-weight: bold\">(most recent call last)</span><span style=\"color: #800000; text-decoration-color: #800000\"> ────────────────────────────────╮</span>\n",
       "<span style=\"color: #800000; text-decoration-color: #800000\">│</span> <span style=\"color: #bfbf7f; text-decoration-color: #bfbf7f\">/var/folders/rw/8p8g2qln5h7_f_02pz80mnl80000gn/T/ipykernel_65302/</span><span style=\"color: #808000; text-decoration-color: #808000; font-weight: bold\">32672028.py</span>:<span style=\"color: #0000ff; text-decoration-color: #0000ff\">30</span> in <span style=\"color: #00ff00; text-decoration-color: #00ff00\">&lt;cell line: </span>  <span style=\"color: #800000; text-decoration-color: #800000\">│</span>\n",
       "<span style=\"color: #800000; text-decoration-color: #800000\">│</span> <span style=\"color: #00ff00; text-decoration-color: #00ff00\">30&gt;</span>                                                                                              <span style=\"color: #800000; text-decoration-color: #800000\">│</span>\n",
       "<span style=\"color: #800000; text-decoration-color: #800000\">│</span>                                                                                                  <span style=\"color: #800000; text-decoration-color: #800000\">│</span>\n",
       "<span style=\"color: #800000; text-decoration-color: #800000\">│</span> <span style=\"color: #800000; text-decoration-color: #800000; font-style: italic\">[Errno 2] No such file or directory: </span>                                                            <span style=\"color: #800000; text-decoration-color: #800000\">│</span>\n",
       "<span style=\"color: #800000; text-decoration-color: #800000\">│</span> <span style=\"color: #800000; text-decoration-color: #800000; font-style: italic\">'/var/folders/rw/8p8g2qln5h7_f_02pz80mnl80000gn/T/ipykernel_65302/32672028.py'</span>                   <span style=\"color: #800000; text-decoration-color: #800000\">│</span>\n",
       "<span style=\"color: #800000; text-decoration-color: #800000\">│</span>                                                                                                  <span style=\"color: #800000; text-decoration-color: #800000\">│</span>\n",
       "<span style=\"color: #800000; text-decoration-color: #800000\">│</span> <span style=\"color: #bfbf7f; text-decoration-color: #bfbf7f\">/var/folders/rw/8p8g2qln5h7_f_02pz80mnl80000gn/T/ipykernel_65302/</span><span style=\"color: #808000; text-decoration-color: #808000; font-weight: bold\">32672028.py</span>:<span style=\"color: #0000ff; text-decoration-color: #0000ff\">31</span> in <span style=\"color: #00ff00; text-decoration-color: #00ff00\">&lt;listcomp&gt;</span>    <span style=\"color: #800000; text-decoration-color: #800000\">│</span>\n",
       "<span style=\"color: #800000; text-decoration-color: #800000\">│</span>                                                                                                  <span style=\"color: #800000; text-decoration-color: #800000\">│</span>\n",
       "<span style=\"color: #800000; text-decoration-color: #800000\">│</span> <span style=\"color: #800000; text-decoration-color: #800000; font-style: italic\">[Errno 2] No such file or directory: </span>                                                            <span style=\"color: #800000; text-decoration-color: #800000\">│</span>\n",
       "<span style=\"color: #800000; text-decoration-color: #800000\">│</span> <span style=\"color: #800000; text-decoration-color: #800000; font-style: italic\">'/var/folders/rw/8p8g2qln5h7_f_02pz80mnl80000gn/T/ipykernel_65302/32672028.py'</span>                   <span style=\"color: #800000; text-decoration-color: #800000\">│</span>\n",
       "<span style=\"color: #800000; text-decoration-color: #800000\">╰──────────────────────────────────────────────────────────────────────────────────────────────────╯</span>\n",
       "<span style=\"color: #ff0000; text-decoration-color: #ff0000; font-weight: bold\">RuntimeError: </span>Invalid state in validate: volume = NaN.\n",
       "</pre>\n"
      ],
      "text/plain": [
       "\u001b[31m╭─\u001b[0m\u001b[31m──────────────────────────────\u001b[0m\u001b[31m \u001b[0m\u001b[1;31mTraceback \u001b[0m\u001b[1;2;31m(most recent call last)\u001b[0m\u001b[31m \u001b[0m\u001b[31m───────────────────────────────\u001b[0m\u001b[31m─╮\u001b[0m\n",
       "\u001b[31m│\u001b[0m \u001b[2;33m/var/folders/rw/8p8g2qln5h7_f_02pz80mnl80000gn/T/ipykernel_65302/\u001b[0m\u001b[1;33m32672028.py\u001b[0m:\u001b[94m30\u001b[0m in \u001b[92m<cell line: \u001b[0m  \u001b[31m│\u001b[0m\n",
       "\u001b[31m│\u001b[0m \u001b[92m30>\u001b[0m                                                                                              \u001b[31m│\u001b[0m\n",
       "\u001b[31m│\u001b[0m                                                                                                  \u001b[31m│\u001b[0m\n",
       "\u001b[31m│\u001b[0m \u001b[3;31m[Errno 2] No such file or directory: \u001b[0m                                                            \u001b[31m│\u001b[0m\n",
       "\u001b[31m│\u001b[0m \u001b[3;31m'/var/folders/rw/8p8g2qln5h7_f_02pz80mnl80000gn/T/ipykernel_65302/32672028.py'\u001b[0m                   \u001b[31m│\u001b[0m\n",
       "\u001b[31m│\u001b[0m                                                                                                  \u001b[31m│\u001b[0m\n",
       "\u001b[31m│\u001b[0m \u001b[2;33m/var/folders/rw/8p8g2qln5h7_f_02pz80mnl80000gn/T/ipykernel_65302/\u001b[0m\u001b[1;33m32672028.py\u001b[0m:\u001b[94m31\u001b[0m in \u001b[92m<listcomp>\u001b[0m    \u001b[31m│\u001b[0m\n",
       "\u001b[31m│\u001b[0m                                                                                                  \u001b[31m│\u001b[0m\n",
       "\u001b[31m│\u001b[0m \u001b[3;31m[Errno 2] No such file or directory: \u001b[0m                                                            \u001b[31m│\u001b[0m\n",
       "\u001b[31m│\u001b[0m \u001b[3;31m'/var/folders/rw/8p8g2qln5h7_f_02pz80mnl80000gn/T/ipykernel_65302/32672028.py'\u001b[0m                   \u001b[31m│\u001b[0m\n",
       "\u001b[31m╰──────────────────────────────────────────────────────────────────────────────────────────────────╯\u001b[0m\n",
       "\u001b[1;91mRuntimeError: \u001b[0mInvalid state in validate: volume = NaN.\n"
      ]
     },
     "metadata": {},
     "output_type": "display_data"
    }
   ],
   "source": [
    "name = \"Pyridine\"\n",
    "molecule_data = dortmund[dortmund[\"Component\"] == name]\n",
    "smiles = molecule_data.iloc[0][\"smiles_1\"]\n",
    "# smiles = \"CCC(=O)O\"\n",
    "# molecule_data = dortmund[dortmund[\"smiles_1\"]==smiles]\n",
    "\n",
    "# Vapor pressure\n",
    "pvap_data = molecule_data[molecule_data[\"DEN\"].isna()]\n",
    "\n",
    "# Density  (kg/m^3)\n",
    "mol = Chem.MolFromSmiles(smiles)\n",
    "mw = ExactMolWt(mol)\n",
    "rho_data = molecule_data[molecule_data[\"DEN\"].notnull()]\n",
    "phase_transition_rho = rho_data.iloc[rho_data[\"T\"].argmax()][\"DEN\"]\n",
    "rho_data_vapor =  rho_data[rho_data[\"DEN\"]<phase_transition_rho]\n",
    "rho_data_liquid =  rho_data[rho_data[\"DEN\"]>=phase_transition_rho]\n",
    "\n",
    "# Equation of state cculation\n",
    "parameters = params_dict[smiles]\n",
    "my_eos = eos.EquationOfState.pcsaft(parameters)\n",
    "liquid_states =  [\n",
    "    eos.State(\n",
    "        my_eos,\n",
    "        temperature=row[\"T\"]*si.KELVIN,\n",
    "        pressure=row[\"P\"]*1e3*si.PASCAL,\n",
    "        density_initialization='liquid'\n",
    "    )\n",
    "    for _, row in rho_data_liquid.iterrows()\n",
    "]\n",
    "vapor_states =  [\n",
    "    eos.State(\n",
    "        my_eos,\n",
    "        temperature=row[\"T\"]*si.KELVIN,\n",
    "        pressure=row[\"P\"]*1e3*si.PASCAL,\n",
    "        density_initialization='vapor'\n",
    "    )\n",
    "    for _, row in rho_data_vapor.iterrows()\n",
    "]\n",
    "states = liquid_states + vapor_states\n",
    "phase_diagram_df = pd.DataFrame(\n",
    "    [\n",
    "        [\n",
    "            state.temperature / si.KELVIN, \n",
    "            state.pressure() / si.PASCAL / 1e3,\n",
    "            state.mass_density() / (1e3*si.GRAM)*si.METER**3\n",
    "        ]\n",
    "        for state in states\n",
    "    ],\n",
    "    columns=[\"T\",\"P\", \"DEN\"]\n",
    ")\n",
    "# phase_diagram = eos.PhaseDiagram.pure(\n",
    "#     my_eos, min_temperature=min_temperature * si.KELVIN, npoints=100\n",
    "# )\n",
    "# phase_diagram_df = pd.DataFrame(phase_diagram.to_dict())\n",
    "\n",
    "# Plot\n",
    "rho_data_pred = phase_diagram_df.rename(\n",
    "    columns={\n",
    "        \"density liquid\": \"DEN\",\n",
    "        \"temperature\": \"T\",\n",
    "        \"pressure\": \"P\"\n",
    "    }\n",
    ")\n",
    "# rho_data_pred[\"P\"] /= 1e3 # convert to kPA\n",
    "# rho_data_pred[\"DEN\"]  =  rho_data_pred[\"DEN\"] * mw / 1e3\n",
    "rho_data_pred[\"Type\"] = \"PC-SAFT\"\n",
    "rho_data[\"Type\"] = \"Experiments\"\n",
    "# rho_data = rho_data[rho_data[\"DEN\"]<2000]\n",
    "rho_data_plot = pd.concat([rho_data, rho_data_pred])\n",
    "\n",
    "fig = px.scatter_3d(\n",
    "    rho_data_plot, \n",
    "    x=\"T\",\n",
    "    y=\"P\", \n",
    "    z=\"DEN\", \n",
    "    color=\"Type\",\n",
    "    opacity=0.2,\n",
    "    width=600,\n",
    "    height=500\n",
    ")\n",
    "fig.show()"
   ]
  },
  {
   "cell_type": "code",
   "execution_count": 9,
   "id": "7310522a-004d-46c0-b949-26d6c805cce1",
   "metadata": {},
   "outputs": [
    {
     "data": {
      "text/html": [
       "<pre style=\"white-space:pre;overflow-x:auto;line-height:normal;font-family:Menlo,'DejaVu Sans Mono',consolas,'Courier New',monospace\"><span style=\"color: #800000; text-decoration-color: #800000\">╭─────────────────────────────── </span><span style=\"color: #800000; text-decoration-color: #800000; font-weight: bold\">Traceback </span><span style=\"color: #bf7f7f; text-decoration-color: #bf7f7f; font-weight: bold\">(most recent call last)</span><span style=\"color: #800000; text-decoration-color: #800000\"> ────────────────────────────────╮</span>\n",
       "<span style=\"color: #800000; text-decoration-color: #800000\">│</span> <span style=\"color: #bfbf7f; text-decoration-color: #bfbf7f\">/var/folders/rw/8p8g2qln5h7_f_02pz80mnl80000gn/T/ipykernel_65302/</span><span style=\"color: #808000; text-decoration-color: #808000; font-weight: bold\">175873462.py</span>:<span style=\"color: #0000ff; text-decoration-color: #0000ff\">2</span> in <span style=\"color: #00ff00; text-decoration-color: #00ff00\">&lt;cell line: </span>  <span style=\"color: #800000; text-decoration-color: #800000\">│</span>\n",
       "<span style=\"color: #800000; text-decoration-color: #800000\">│</span> <span style=\"color: #00ff00; text-decoration-color: #00ff00\">1&gt;</span>                                                                                               <span style=\"color: #800000; text-decoration-color: #800000\">│</span>\n",
       "<span style=\"color: #800000; text-decoration-color: #800000\">│</span>                                                                                                  <span style=\"color: #800000; text-decoration-color: #800000\">│</span>\n",
       "<span style=\"color: #800000; text-decoration-color: #800000\">│</span> <span style=\"color: #800000; text-decoration-color: #800000; font-style: italic\">[Errno 2] No such file or directory: </span>                                                            <span style=\"color: #800000; text-decoration-color: #800000\">│</span>\n",
       "<span style=\"color: #800000; text-decoration-color: #800000\">│</span> <span style=\"color: #800000; text-decoration-color: #800000; font-style: italic\">'/var/folders/rw/8p8g2qln5h7_f_02pz80mnl80000gn/T/ipykernel_65302/175873462.py'</span>                  <span style=\"color: #800000; text-decoration-color: #800000\">│</span>\n",
       "<span style=\"color: #800000; text-decoration-color: #800000\">╰──────────────────────────────────────────────────────────────────────────────────────────────────╯</span>\n",
       "<span style=\"color: #ff0000; text-decoration-color: #ff0000; font-weight: bold\">NameError: </span>name <span style=\"color: #008000; text-decoration-color: #008000\">'phase_diagram_df'</span> is not defined\n",
       "</pre>\n"
      ],
      "text/plain": [
       "\u001b[31m╭─\u001b[0m\u001b[31m──────────────────────────────\u001b[0m\u001b[31m \u001b[0m\u001b[1;31mTraceback \u001b[0m\u001b[1;2;31m(most recent call last)\u001b[0m\u001b[31m \u001b[0m\u001b[31m───────────────────────────────\u001b[0m\u001b[31m─╮\u001b[0m\n",
       "\u001b[31m│\u001b[0m \u001b[2;33m/var/folders/rw/8p8g2qln5h7_f_02pz80mnl80000gn/T/ipykernel_65302/\u001b[0m\u001b[1;33m175873462.py\u001b[0m:\u001b[94m2\u001b[0m in \u001b[92m<cell line: \u001b[0m  \u001b[31m│\u001b[0m\n",
       "\u001b[31m│\u001b[0m \u001b[92m1>\u001b[0m                                                                                               \u001b[31m│\u001b[0m\n",
       "\u001b[31m│\u001b[0m                                                                                                  \u001b[31m│\u001b[0m\n",
       "\u001b[31m│\u001b[0m \u001b[3;31m[Errno 2] No such file or directory: \u001b[0m                                                            \u001b[31m│\u001b[0m\n",
       "\u001b[31m│\u001b[0m \u001b[3;31m'/var/folders/rw/8p8g2qln5h7_f_02pz80mnl80000gn/T/ipykernel_65302/175873462.py'\u001b[0m                  \u001b[31m│\u001b[0m\n",
       "\u001b[31m╰──────────────────────────────────────────────────────────────────────────────────────────────────╯\u001b[0m\n",
       "\u001b[1;91mNameError: \u001b[0mname \u001b[32m'phase_diagram_df'\u001b[0m is not defined\n"
      ]
     },
     "metadata": {},
     "output_type": "display_data"
    }
   ],
   "source": [
    "_ = plot_pressure_density_phase_diagram(\n",
    "    {\"PC-SAFT\": phase_diagram_df},\n",
    "    molecular_weight=mw, \n",
    "    experimental_data=molecule_data,\n",
    "    # name=name\n",
    ")"
   ]
  },
  {
   "cell_type": "code",
   "execution_count": 7,
   "id": "830e4f7a-c6ba-4f54-8c17-8d7125fd24d5",
   "metadata": {},
   "outputs": [],
   "source": [
    "def pcsaft_error(molecule_data: pd.DataFrame, smiles: str, mw: float, parameters):\n",
    "    # Equation of state from parameters\n",
    "    my_eos = eos.EquationOfState.pcsaft(parameters)\n",
    "    \n",
    "    # Vapor pressure data\n",
    "    pvap_data = molecule_data[molecule_data[\"DEN\"].isna()]\n",
    "    temperatures = pvap_data[\"T\"].to_numpy() * si.KELVIN\n",
    "    pressures = pvap_data[\"P\"].to_numpy() * 1e3 * si.PASCAL\n",
    "    p_ds = DataSet.vapor_pressure(\n",
    "        target=pressures,\n",
    "        temperature=temperatures,\n",
    "        extrapolate=True,\n",
    "    )\n",
    "    pvap_error = p_ds.relative_difference(my_eos)\n",
    "    pvap_pred = p_ds.predict(my_eos) / (1e3 * si.PASCAL)\n",
    "        \n",
    "    # Density  (kg/m^3)\n",
    "    rho_data = molecule_data[molecule_data[\"DEN\"].notnull()]\n",
    "    phase_transition_rho = rho_data.iloc[rho_data[\"T\"].argmax()][\"DEN\"]\n",
    "    # rho_data_vapor =  rho_data[rho_data[\"DEN\"]<phase_transition_rho]\n",
    "    rho_data_liquid =  rho_data[rho_data[\"DEN\"]>phase_transition_rho]\n",
    "    temperatures = rho_data_liquid[\"T\"].to_numpy() * si.KELVIN\n",
    "    pressures = rho_data_liquid[\"P\"].to_numpy() * 1e3 * si.PASCAL\n",
    "    rhos = rho_data_liquid[\"DEN\"].to_numpy() * 1e3 * si.GRAM/si.METER**3\n",
    "    rho_ds = DataSet.liquid_density(\n",
    "        target=rhos,\n",
    "        temperature=temperatures,\n",
    "        pressure=pressures\n",
    "    )\n",
    "    rho_error = rho_ds.relative_difference(my_eos)\n",
    "    rho_pred = rho_ds.predict(my_eos) / (1e3 * si.GRAM/si.METER**3)\n",
    "    \n",
    "    return {\n",
    "        \"vapor_pressure_prediction\": pvap_pred,\n",
    "        \"vapor_pressure_error\": pvap_error,\n",
    "        \"liquid_density_prediction\": rho_pred,\n",
    "        \"liquid_density_error\": rho_error,\n",
    "    }\n",
    "    "
   ]
  },
  {
   "cell_type": "code",
   "execution_count": 112,
   "id": "3b44fd0b-e5d9-4fb5-8348-0e6a4acb9621",
   "metadata": {},
   "outputs": [
    {
     "data": {
      "text/html": [
       "<pre style=\"white-space:pre;overflow-x:auto;line-height:normal;font-family:Menlo,'DejaVu Sans Mono',consolas,'Courier New',monospace\">\n",
       "<span style=\"font-weight: bold\">{</span>\n",
       "    <span style=\"color: #008000; text-decoration-color: #008000\">'vapor_pressure_prediction'</span>: <span style=\"color: #800080; text-decoration-color: #800080; font-weight: bold\">array</span><span style=\"font-weight: bold\">([</span> <span style=\"color: #008080; text-decoration-color: #008080; font-weight: bold\">23.75368515</span>, <span style=\"color: #008080; text-decoration-color: #008080; font-weight: bold\">119.84153657</span>, <span style=\"color: #008080; text-decoration-color: #008080; font-weight: bold\">434.64339424</span>, <span style=\"color: #808000; text-decoration-color: #808000\">...</span>, <span style=\"color: #008080; text-decoration-color: #008080; font-weight: bold\">111.05477938</span>,\n",
       "       <span style=\"color: #008080; text-decoration-color: #008080; font-weight: bold\">120.18131172</span>, <span style=\"color: #008080; text-decoration-color: #008080; font-weight: bold\">120.9770527</span> <span style=\"font-weight: bold\">])</span>,\n",
       "    <span style=\"color: #008000; text-decoration-color: #008000\">'vapor_pressure_error'</span>: <span style=\"color: #800080; text-decoration-color: #800080; font-weight: bold\">array</span><span style=\"font-weight: bold\">([</span><span style=\"color: #008080; text-decoration-color: #008080; font-weight: bold\">0.15916871</span>, <span style=\"color: #008080; text-decoration-color: #008080; font-weight: bold\">0.1889985</span> , <span style=\"color: #008080; text-decoration-color: #008080; font-weight: bold\">0.17471188</span>, <span style=\"color: #808000; text-decoration-color: #808000\">...</span>, <span style=\"color: #008080; text-decoration-color: #008080; font-weight: bold\">0.18143382</span>, <span style=\"color: #008080; text-decoration-color: #008080; font-weight: bold\">0.18639005</span>,\n",
       "       <span style=\"color: #008080; text-decoration-color: #008080; font-weight: bold\">0.19395068</span><span style=\"font-weight: bold\">])</span>,\n",
       "    <span style=\"color: #008000; text-decoration-color: #008000\">'liquid_density_prediction'</span>: <span style=\"color: #800080; text-decoration-color: #800080; font-weight: bold\">array</span><span style=\"font-weight: bold\">([</span><span style=\"color: #008080; text-decoration-color: #008080; font-weight: bold\">508.60306209</span>, <span style=\"color: #008080; text-decoration-color: #008080; font-weight: bold\">575.98584641</span>, <span style=\"color: #008080; text-decoration-color: #008080; font-weight: bold\">603.83077533</span>, <span style=\"color: #008080; text-decoration-color: #008080; font-weight: bold\">629.4215674</span> ,\n",
       "       <span style=\"color: #008080; text-decoration-color: #008080; font-weight: bold\">653.51880418</span>, <span style=\"color: #008080; text-decoration-color: #008080; font-weight: bold\">676.73536138</span>, <span style=\"color: #008080; text-decoration-color: #008080; font-weight: bold\">699.63677985</span>, <span style=\"color: #008080; text-decoration-color: #008080; font-weight: bold\">672.6514419</span> ,\n",
       "       <span style=\"color: #008080; text-decoration-color: #008080; font-weight: bold\">641.34756717</span>, <span style=\"color: #008080; text-decoration-color: #008080; font-weight: bold\">607.93949225</span>, <span style=\"color: #008080; text-decoration-color: #008080; font-weight: bold\">570.73054038</span>, <span style=\"color: #008080; text-decoration-color: #008080; font-weight: bold\">527.09686624</span>,\n",
       "       <span style=\"color: #008080; text-decoration-color: #008080; font-weight: bold\">471.65107363</span>, <span style=\"color: #008080; text-decoration-color: #008080; font-weight: bold\">383.58259722</span>, <span style=\"color: #008080; text-decoration-color: #008080; font-weight: bold\">102.01125421</span>,  <span style=\"color: #008080; text-decoration-color: #008080; font-weight: bold\">84.02338448</span>,\n",
       "       <span style=\"color: #008080; text-decoration-color: #008080; font-weight: bold\">359.13605606</span>, <span style=\"color: #008080; text-decoration-color: #008080; font-weight: bold\">401.18932627</span>, <span style=\"color: #008080; text-decoration-color: #008080; font-weight: bold\">430.15671736</span>, <span style=\"color: #008080; text-decoration-color: #008080; font-weight: bold\">453.75641113</span>,\n",
       "       <span style=\"color: #008080; text-decoration-color: #008080; font-weight: bold\">474.17089129</span>, <span style=\"color: #008080; text-decoration-color: #008080; font-weight: bold\">508.91286913</span>, <span style=\"color: #008080; text-decoration-color: #008080; font-weight: bold\">538.1717485</span> , <span style=\"color: #008080; text-decoration-color: #008080; font-weight: bold\">563.9470008</span> ,\n",
       "       <span style=\"color: #008080; text-decoration-color: #008080; font-weight: bold\">648.7885673</span> , <span style=\"color: #008080; text-decoration-color: #008080; font-weight: bold\">609.10236528</span>, <span style=\"color: #008080; text-decoration-color: #008080; font-weight: bold\">563.99405874</span>, <span style=\"color: #008080; text-decoration-color: #008080; font-weight: bold\">523.86214405</span>,\n",
       "       <span style=\"color: #008080; text-decoration-color: #008080; font-weight: bold\">551.42980591</span>, <span style=\"color: #008080; text-decoration-color: #008080; font-weight: bold\">523.95555956</span>, <span style=\"color: #008080; text-decoration-color: #008080; font-weight: bold\">492.14281225</span>, <span style=\"color: #008080; text-decoration-color: #008080; font-weight: bold\">453.41835964</span>,\n",
       "       <span style=\"color: #008080; text-decoration-color: #008080; font-weight: bold\">648.78852987</span><span style=\"font-weight: bold\">])</span>,\n",
       "    <span style=\"color: #008000; text-decoration-color: #008000\">'liquid_density_error'</span>: <span style=\"color: #800080; text-decoration-color: #800080; font-weight: bold\">array</span><span style=\"font-weight: bold\">([</span><span style=\"color: #008080; text-decoration-color: #008080; font-weight: bold\">-3.49820467e-02</span>, <span style=\"color: #008080; text-decoration-color: #008080; font-weight: bold\">-1.11321675e-02</span>, <span style=\"color: #008080; text-decoration-color: #008080; font-weight: bold\">-8.03197639e-03</span>, <span style=\"color: #008080; text-decoration-color: #008080; font-weight: bold\">-4.56806408e-03</span>,\n",
       "       <span style=\"color: #008080; text-decoration-color: #008080; font-weight: bold\">-2.09378036e-03</span>, <span style=\"color: #008080; text-decoration-color: #008080; font-weight: bold\">-4.05664052e-04</span>,  <span style=\"color: #008080; text-decoration-color: #008080; font-weight: bold\">6.96245221e-04</span>,  <span style=\"color: #008080; text-decoration-color: #008080; font-weight: bold\">5.74369686e-03</span>,\n",
       "       <span style=\"color: #008080; text-decoration-color: #008080; font-weight: bold\">-2.03442411e-03</span>, <span style=\"color: #008080; text-decoration-color: #008080; font-weight: bold\">-6.45623846e-03</span>, <span style=\"color: #008080; text-decoration-color: #008080; font-weight: bold\">-1.14498357e-02</span>, <span style=\"color: #008080; text-decoration-color: #008080; font-weight: bold\">-2.05882707e-02</span>,\n",
       "       <span style=\"color: #008080; text-decoration-color: #008080; font-weight: bold\">-4.12699691e-02</span>, <span style=\"color: #008080; text-decoration-color: #008080; font-weight: bold\">-1.02470431e-01</span>, <span style=\"color: #008080; text-decoration-color: #008080; font-weight: bold\">-6.67203039e-01</span>, <span style=\"color: #008080; text-decoration-color: #008080; font-weight: bold\">-7.64301026e-01</span>,\n",
       "       <span style=\"color: #008080; text-decoration-color: #008080; font-weight: bold\">-6.82463566e-02</span>, <span style=\"color: #008080; text-decoration-color: #008080; font-weight: bold\">-2.16660255e-02</span>, <span style=\"color: #008080; text-decoration-color: #008080; font-weight: bold\">-4.93484151e-03</span>,  <span style=\"color: #008080; text-decoration-color: #008080; font-weight: bold\">3.05812047e-03</span>,\n",
       "        <span style=\"color: #008080; text-decoration-color: #008080; font-weight: bold\">2.62807719e-03</span>,  <span style=\"color: #008080; text-decoration-color: #008080; font-weight: bold\">8.23540310e-03</span>,  <span style=\"color: #008080; text-decoration-color: #008080; font-weight: bold\">1.54298888e-02</span>,  <span style=\"color: #008080; text-decoration-color: #008080; font-weight: bold\">2.00225381e-02</span>,\n",
       "       <span style=\"color: #008080; text-decoration-color: #008080; font-weight: bold\">-2.46226525e-03</span>, <span style=\"color: #008080; text-decoration-color: #008080; font-weight: bold\">-5.17359126e-03</span>, <span style=\"color: #008080; text-decoration-color: #008080; font-weight: bold\">-1.11092547e-02</span>, <span style=\"color: #008080; text-decoration-color: #008080; font-weight: bold\">-1.95906199e-02</span>,\n",
       "       <span style=\"color: #008080; text-decoration-color: #008080; font-weight: bold\">-1.22259435e-02</span>, <span style=\"color: #008080; text-decoration-color: #008080; font-weight: bold\">-1.87234465e-02</span>, <span style=\"color: #008080; text-decoration-color: #008080; font-weight: bold\">-2.92639098e-02</span>, <span style=\"color: #008080; text-decoration-color: #008080; font-weight: bold\">-4.75244629e-02</span>,\n",
       "       <span style=\"color: #008080; text-decoration-color: #008080; font-weight: bold\">-1.86380020e-03</span><span style=\"font-weight: bold\">])</span>\n",
       "<span style=\"font-weight: bold\">}</span>\n",
       "</pre>\n"
      ],
      "text/plain": [
       "\n",
       "\u001b[1m{\u001b[0m\n",
       "    \u001b[32m'vapor_pressure_prediction'\u001b[0m: \u001b[1;35marray\u001b[0m\u001b[1m(\u001b[0m\u001b[1m[\u001b[0m \u001b[1;36m23.75368515\u001b[0m, \u001b[1;36m119.84153657\u001b[0m, \u001b[1;36m434.64339424\u001b[0m, \u001b[33m...\u001b[0m, \u001b[1;36m111.05477938\u001b[0m,\n",
       "       \u001b[1;36m120.18131172\u001b[0m, \u001b[1;36m120.9770527\u001b[0m \u001b[1m]\u001b[0m\u001b[1m)\u001b[0m,\n",
       "    \u001b[32m'vapor_pressure_error'\u001b[0m: \u001b[1;35marray\u001b[0m\u001b[1m(\u001b[0m\u001b[1m[\u001b[0m\u001b[1;36m0.15916871\u001b[0m, \u001b[1;36m0.1889985\u001b[0m , \u001b[1;36m0.17471188\u001b[0m, \u001b[33m...\u001b[0m, \u001b[1;36m0.18143382\u001b[0m, \u001b[1;36m0.18639005\u001b[0m,\n",
       "       \u001b[1;36m0.19395068\u001b[0m\u001b[1m]\u001b[0m\u001b[1m)\u001b[0m,\n",
       "    \u001b[32m'liquid_density_prediction'\u001b[0m: \u001b[1;35marray\u001b[0m\u001b[1m(\u001b[0m\u001b[1m[\u001b[0m\u001b[1;36m508.60306209\u001b[0m, \u001b[1;36m575.98584641\u001b[0m, \u001b[1;36m603.83077533\u001b[0m, \u001b[1;36m629.4215674\u001b[0m ,\n",
       "       \u001b[1;36m653.51880418\u001b[0m, \u001b[1;36m676.73536138\u001b[0m, \u001b[1;36m699.63677985\u001b[0m, \u001b[1;36m672.6514419\u001b[0m ,\n",
       "       \u001b[1;36m641.34756717\u001b[0m, \u001b[1;36m607.93949225\u001b[0m, \u001b[1;36m570.73054038\u001b[0m, \u001b[1;36m527.09686624\u001b[0m,\n",
       "       \u001b[1;36m471.65107363\u001b[0m, \u001b[1;36m383.58259722\u001b[0m, \u001b[1;36m102.01125421\u001b[0m,  \u001b[1;36m84.02338448\u001b[0m,\n",
       "       \u001b[1;36m359.13605606\u001b[0m, \u001b[1;36m401.18932627\u001b[0m, \u001b[1;36m430.15671736\u001b[0m, \u001b[1;36m453.75641113\u001b[0m,\n",
       "       \u001b[1;36m474.17089129\u001b[0m, \u001b[1;36m508.91286913\u001b[0m, \u001b[1;36m538.1717485\u001b[0m , \u001b[1;36m563.9470008\u001b[0m ,\n",
       "       \u001b[1;36m648.7885673\u001b[0m , \u001b[1;36m609.10236528\u001b[0m, \u001b[1;36m563.99405874\u001b[0m, \u001b[1;36m523.86214405\u001b[0m,\n",
       "       \u001b[1;36m551.42980591\u001b[0m, \u001b[1;36m523.95555956\u001b[0m, \u001b[1;36m492.14281225\u001b[0m, \u001b[1;36m453.41835964\u001b[0m,\n",
       "       \u001b[1;36m648.78852987\u001b[0m\u001b[1m]\u001b[0m\u001b[1m)\u001b[0m,\n",
       "    \u001b[32m'liquid_density_error'\u001b[0m: \u001b[1;35marray\u001b[0m\u001b[1m(\u001b[0m\u001b[1m[\u001b[0m\u001b[1;36m-3.49820467e-02\u001b[0m, \u001b[1;36m-1.11321675e-02\u001b[0m, \u001b[1;36m-8.03197639e-03\u001b[0m, \u001b[1;36m-4.56806408e-03\u001b[0m,\n",
       "       \u001b[1;36m-2.09378036e-03\u001b[0m, \u001b[1;36m-4.05664052e-04\u001b[0m,  \u001b[1;36m6.96245221e-04\u001b[0m,  \u001b[1;36m5.74369686e-03\u001b[0m,\n",
       "       \u001b[1;36m-2.03442411e-03\u001b[0m, \u001b[1;36m-6.45623846e-03\u001b[0m, \u001b[1;36m-1.14498357e-02\u001b[0m, \u001b[1;36m-2.05882707e-02\u001b[0m,\n",
       "       \u001b[1;36m-4.12699691e-02\u001b[0m, \u001b[1;36m-1.02470431e-01\u001b[0m, \u001b[1;36m-6.67203039e-01\u001b[0m, \u001b[1;36m-7.64301026e-01\u001b[0m,\n",
       "       \u001b[1;36m-6.82463566e-02\u001b[0m, \u001b[1;36m-2.16660255e-02\u001b[0m, \u001b[1;36m-4.93484151e-03\u001b[0m,  \u001b[1;36m3.05812047e-03\u001b[0m,\n",
       "        \u001b[1;36m2.62807719e-03\u001b[0m,  \u001b[1;36m8.23540310e-03\u001b[0m,  \u001b[1;36m1.54298888e-02\u001b[0m,  \u001b[1;36m2.00225381e-02\u001b[0m,\n",
       "       \u001b[1;36m-2.46226525e-03\u001b[0m, \u001b[1;36m-5.17359126e-03\u001b[0m, \u001b[1;36m-1.11092547e-02\u001b[0m, \u001b[1;36m-1.95906199e-02\u001b[0m,\n",
       "       \u001b[1;36m-1.22259435e-02\u001b[0m, \u001b[1;36m-1.87234465e-02\u001b[0m, \u001b[1;36m-2.92639098e-02\u001b[0m, \u001b[1;36m-4.75244629e-02\u001b[0m,\n",
       "       \u001b[1;36m-1.86380020e-03\u001b[0m\u001b[1m]\u001b[0m\u001b[1m)\u001b[0m\n",
       "\u001b[1m}\u001b[0m\n"
      ]
     },
     "metadata": {},
     "output_type": "display_data"
    }
   ],
   "source": [
    "pcsaft_error(molecule_data, smiles,mw, parameters)"
   ]
  },
  {
   "cell_type": "markdown",
   "id": "718a6f37-2950-4d77-8c99-e9fb0675e0f1",
   "metadata": {
    "tags": []
   },
   "source": [
    "## Sensitivity Analysis"
   ]
  },
  {
   "cell_type": "code",
   "execution_count": 6,
   "id": "f9ae4195-8142-462c-8f5f-847538bb70c8",
   "metadata": {},
   "outputs": [
    {
     "data": {
      "text/html": [
       "<div>\n",
       "<style scoped>\n",
       "    .dataframe tbody tr th:only-of-type {\n",
       "        vertical-align: middle;\n",
       "    }\n",
       "\n",
       "    .dataframe tbody tr th {\n",
       "        vertical-align: top;\n",
       "    }\n",
       "\n",
       "    .dataframe thead th {\n",
       "        text-align: right;\n",
       "    }\n",
       "</style>\n",
       "<table border=\"1\" class=\"dataframe\">\n",
       "  <thead>\n",
       "    <tr style=\"text-align: right;\">\n",
       "      <th></th>\n",
       "      <th>sigma</th>\n",
       "      <th>m</th>\n",
       "      <th>epsilon_k</th>\n",
       "      <th>mu</th>\n",
       "      <th>epsilonAB</th>\n",
       "      <th>KAB</th>\n",
       "    </tr>\n",
       "  </thead>\n",
       "  <tbody>\n",
       "    <tr>\n",
       "      <th>count</th>\n",
       "      <td>839.000000</td>\n",
       "      <td>839.000000</td>\n",
       "      <td>839.000000</td>\n",
       "      <td>839.000000</td>\n",
       "      <td>839.0</td>\n",
       "      <td>839.0</td>\n",
       "    </tr>\n",
       "    <tr>\n",
       "      <th>mean</th>\n",
       "      <td>3.692451</td>\n",
       "      <td>3.269681</td>\n",
       "      <td>284.134306</td>\n",
       "      <td>4.596324</td>\n",
       "      <td>0.0</td>\n",
       "      <td>0.0</td>\n",
       "    </tr>\n",
       "    <tr>\n",
       "      <th>std</th>\n",
       "      <td>0.189931</td>\n",
       "      <td>0.539915</td>\n",
       "      <td>70.159533</td>\n",
       "      <td>55.388099</td>\n",
       "      <td>0.0</td>\n",
       "      <td>0.0</td>\n",
       "    </tr>\n",
       "    <tr>\n",
       "      <th>min</th>\n",
       "      <td>2.636563</td>\n",
       "      <td>1.416631</td>\n",
       "      <td>139.171288</td>\n",
       "      <td>0.000000</td>\n",
       "      <td>0.0</td>\n",
       "      <td>0.0</td>\n",
       "    </tr>\n",
       "    <tr>\n",
       "      <th>25%</th>\n",
       "      <td>3.586253</td>\n",
       "      <td>2.918471</td>\n",
       "      <td>246.248884</td>\n",
       "      <td>0.573582</td>\n",
       "      <td>0.0</td>\n",
       "      <td>0.0</td>\n",
       "    </tr>\n",
       "    <tr>\n",
       "      <th>50%</th>\n",
       "      <td>3.718350</td>\n",
       "      <td>3.239285</td>\n",
       "      <td>268.247238</td>\n",
       "      <td>1.603756</td>\n",
       "      <td>0.0</td>\n",
       "      <td>0.0</td>\n",
       "    </tr>\n",
       "    <tr>\n",
       "      <th>75%</th>\n",
       "      <td>3.821175</td>\n",
       "      <td>3.659366</td>\n",
       "      <td>303.059485</td>\n",
       "      <td>2.841044</td>\n",
       "      <td>0.0</td>\n",
       "      <td>0.0</td>\n",
       "    </tr>\n",
       "    <tr>\n",
       "      <th>max</th>\n",
       "      <td>4.091064</td>\n",
       "      <td>4.634466</td>\n",
       "      <td>1203.370325</td>\n",
       "      <td>1223.000000</td>\n",
       "      <td>0.0</td>\n",
       "      <td>0.0</td>\n",
       "    </tr>\n",
       "  </tbody>\n",
       "</table>\n",
       "</div>"
      ]
     },
     "execution_count": 6,
     "metadata": {},
     "output_type": "execute_result"
    }
   ],
   "source": [
    "non_associating = pcp_saft_sepp[pcp_saft_sepp[\"KAB\"] == 0.0]\n",
    "non_associating[columns].describe()"
   ]
  },
  {
   "cell_type": "code",
   "execution_count": 7,
   "id": "6b8893d9-43d4-4f07-88d7-54b7d5dc557e",
   "metadata": {},
   "outputs": [
    {
     "data": {
      "text/html": [
       "<div>\n",
       "<style scoped>\n",
       "    .dataframe tbody tr th:only-of-type {\n",
       "        vertical-align: middle;\n",
       "    }\n",
       "\n",
       "    .dataframe tbody tr th {\n",
       "        vertical-align: top;\n",
       "    }\n",
       "\n",
       "    .dataframe thead th {\n",
       "        text-align: right;\n",
       "    }\n",
       "</style>\n",
       "<table border=\"1\" class=\"dataframe\">\n",
       "  <thead>\n",
       "    <tr style=\"text-align: right;\">\n",
       "      <th></th>\n",
       "      <th>sigma</th>\n",
       "      <th>m</th>\n",
       "      <th>epsilon_k</th>\n",
       "      <th>mu</th>\n",
       "      <th>epsilonAB</th>\n",
       "      <th>KAB</th>\n",
       "    </tr>\n",
       "  </thead>\n",
       "  <tbody>\n",
       "    <tr>\n",
       "      <th>count</th>\n",
       "      <td>419.000000</td>\n",
       "      <td>419.000000</td>\n",
       "      <td>419.000000</td>\n",
       "      <td>419.000000</td>\n",
       "      <td>388.000000</td>\n",
       "      <td>388.000000</td>\n",
       "    </tr>\n",
       "    <tr>\n",
       "      <th>mean</th>\n",
       "      <td>3.589873</td>\n",
       "      <td>2.967784</td>\n",
       "      <td>288.915059</td>\n",
       "      <td>2.397886</td>\n",
       "      <td>2412.713622</td>\n",
       "      <td>0.492235</td>\n",
       "    </tr>\n",
       "    <tr>\n",
       "      <th>std</th>\n",
       "      <td>0.201125</td>\n",
       "      <td>0.489185</td>\n",
       "      <td>64.181082</td>\n",
       "      <td>1.413829</td>\n",
       "      <td>482.802140</td>\n",
       "      <td>0.422432</td>\n",
       "    </tr>\n",
       "    <tr>\n",
       "      <th>min</th>\n",
       "      <td>2.595953</td>\n",
       "      <td>1.498256</td>\n",
       "      <td>180.734674</td>\n",
       "      <td>0.000000</td>\n",
       "      <td>1089.609431</td>\n",
       "      <td>0.005243</td>\n",
       "    </tr>\n",
       "    <tr>\n",
       "      <th>25%</th>\n",
       "      <td>3.480768</td>\n",
       "      <td>2.662615</td>\n",
       "      <td>240.686261</td>\n",
       "      <td>1.403015</td>\n",
       "      <td>2262.481650</td>\n",
       "      <td>0.224470</td>\n",
       "    </tr>\n",
       "    <tr>\n",
       "      <th>50%</th>\n",
       "      <td>3.607758</td>\n",
       "      <td>2.960514</td>\n",
       "      <td>267.808328</td>\n",
       "      <td>1.770121</td>\n",
       "      <td>2608.698003</td>\n",
       "      <td>0.376107</td>\n",
       "    </tr>\n",
       "    <tr>\n",
       "      <th>75%</th>\n",
       "      <td>3.730951</td>\n",
       "      <td>3.267475</td>\n",
       "      <td>330.867271</td>\n",
       "      <td>3.661264</td>\n",
       "      <td>2694.982425</td>\n",
       "      <td>0.632395</td>\n",
       "    </tr>\n",
       "    <tr>\n",
       "      <th>max</th>\n",
       "      <td>4.053681</td>\n",
       "      <td>4.478091</td>\n",
       "      <td>602.197967</td>\n",
       "      <td>6.620367</td>\n",
       "      <td>3662.267483</td>\n",
       "      <td>3.682140</td>\n",
       "    </tr>\n",
       "  </tbody>\n",
       "</table>\n",
       "</div>"
      ]
     },
     "execution_count": 7,
     "metadata": {},
     "output_type": "execute_result"
    }
   ],
   "source": [
    "associating = pcp_saft_sepp[pcp_saft_sepp[\"KAB\"] != 0.0]\n",
    "associating_summary = associating[columns].describe()\n",
    "associating_summary"
   ]
  },
  {
   "cell_type": "code",
   "execution_count": 8,
   "id": "26937378-ee2c-46cf-a8ad-fe1765906e56",
   "metadata": {},
   "outputs": [],
   "source": [
    "def create_parameters(row: pd.Series,smiles: str):\n",
    "    identifier = pcsaft.Identifier(smiles=smiles)\n",
    "    psr = pcsaft.PcSaftRecord(\n",
    "        m=row[\"m\"],\n",
    "        sigma=row[\"sigma\"],\n",
    "        epsilon_k=row[\"epsilon_k\"],\n",
    "        mu=row[\"mu\"],\n",
    "        kappa_ab=row[\"KAB\"],\n",
    "        epsilon_k_ab=row[\"epsilonAB\"],\n",
    "    )\n",
    "    mol = Chem.MolFromSmiles(smiles)\n",
    "    mw = ExactMolWt(mol)\n",
    "    record = pcsaft.PureRecord(identifier, molarweight=mw, model_record=psr)\n",
    "    return pcsaft.PcSaftParameters.new_pure(record)"
   ]
  },
  {
   "cell_type": "code",
   "execution_count": 9,
   "id": "6494d31a-c4b6-4ad1-aa4e-c85d10bca982",
   "metadata": {},
   "outputs": [],
   "source": [
    "def generate_local_samples(problem: dict, **kwargs):\n",
    "    bounds = np.array(problem[\"bounds\"])\n",
    "    D = bounds.shape[0]\n",
    "    samples = np.zeros((2*D+1, D))\n",
    "    samples[0, :] = bounds[:, 1]\n",
    "    for i in range(D):\n",
    "        s = 2*i + 1\n",
    "        error = 1e-3\n",
    "        M = bounds[i,2]\n",
    "        h = (error/M)**(1/3)\n",
    "        for j in range(D):\n",
    "            if i == j:\n",
    "                lower = bounds[j, 1] - h \n",
    "                lower = lower if lower>bounds[j,0] else bounds[j,0]\n",
    "                samples[s, j] = lower\n",
    "                samples[s+1, j] = bounds[j, 1]+h\n",
    "            else:\n",
    "                samples[s, j] = bounds[j, 1]\n",
    "                samples[s+1, j] = bounds[j, 1]   \n",
    "    return samples\n",
    "\n",
    "def local_analyze(problem: dict, y: np.ndarray, **kwargs):\n",
    "    bounds = np.array(problem[\"bounds\"])\n",
    "    D = bounds.shape[0]\n",
    "    sens = np.zeros(D)\n",
    "    for i in range(D):\n",
    "        delta = bounds[i,2]- bounds[i,0]\n",
    "        s = 2*i + 1\n",
    "        error = 1e-3\n",
    "        M = bounds[i,2]\n",
    "        h = (error/M)**(1/3)\n",
    "        sens[i] = (y[s+1]-y[s])/h\n",
    "    return sens"
   ]
  },
  {
   "cell_type": "code",
   "execution_count": 10,
   "id": "8121138c-4680-42d6-89b3-dd1f149c1699",
   "metadata": {
    "tags": []
   },
   "outputs": [],
   "source": [
    "def sensitivity_analysis(\n",
    "    smiles: str,\n",
    "    molecule_data: pd.DataFrame,\n",
    "    associating: bool,\n",
    "    initial_parameters: Dict[str,float],\n",
    "):\n",
    "    # Define the problem\n",
    "    columns = [\"sigma\", \"m\", \"epsilon_k\", \"mu\", \"epsilonAB\", \"KAB\"]\n",
    "    if associating:\n",
    "        problem = {\n",
    "            'groups': [\"Group_1\", \"Group_2\", \"Group_3\", \"Group_4\", \"Group_5\", \"Group_5\"],\n",
    "            'num_vars': 6,\n",
    "            'names': columns,\n",
    "            'bounds': [\n",
    "                [\n",
    "                    initial_parameters[param]*0.9,\n",
    "                    initial_parameters[param],\n",
    "                    initial_parameters[param]*1.1,\n",
    "\n",
    "                ]\n",
    "                for param in columns\n",
    "            ],\n",
    "            \"dists\": [\"triang\"]*len(columns),\n",
    "        }\n",
    "    else:\n",
    "        problem = {\n",
    "            'groups': [\"Group_1\", \"Group_2\", \"Group_3\", \"Group_4\", \"Group_5\", \"Group_5\"],\n",
    "            'num_vars': 6,\n",
    "            'names': columns,\n",
    "            'bounds': [\n",
    "                [\n",
    "                    initial_parameters[param]*0.9,\n",
    "                    initial_parameters[param],\n",
    "                    initial_parameters[param]*1.1,\n",
    "\n",
    "                ]\n",
    "                for param in columns[:3]\n",
    "            ] + \n",
    "            [\n",
    "                [0.0, 0.0, 0.005],\n",
    "                [0.0, 0.0, 0.001],\n",
    "                [0.0, 0.0, 0.001],\n",
    "            ]\n",
    "            ,\n",
    "            \"dists\": [\"triang\"]*len(columns),\n",
    "        } \n",
    "\n",
    "    # Generate samples\n",
    "    param_values = generate_local_samples(problem)\n",
    "    parameters_df = pd.DataFrame(param_values, columns=columns)\n",
    "\n",
    "    # calculate molecular weight\n",
    "    mol = Chem.MolFromSmiles(smiles)\n",
    "    mw = ExactMolWt(mol)\n",
    "\n",
    "    # Evaluate samples\n",
    "    pvap_errors = []\n",
    "    rho_errors = []\n",
    "    # for _, parameters_row in tqdm(\n",
    "    #     parameters_df.iterrows(), total=len(parameters_df),desc=\"Evaluating\"\n",
    "    # ):\n",
    "    for _, parameters_row in parameters_df.iterrows():\n",
    "        # Generate parameters\n",
    "        pcsaft_parameters = create_parameters(parameters_row, smiles)\n",
    "        \n",
    "        # Calculate errors\n",
    "        results = pcsaft_error(molecule_data, smiles,mw, pcsaft_parameters)\n",
    "        pvap_mape = np.abs(results[\"vapor_pressure_error\"]).mean()\n",
    "        rho_mape = np.abs(results[\"liquid_density_error\"]).mean()\n",
    "        pvap_errors.append(pvap_mape)\n",
    "        rho_errors.append(rho_mape)\n",
    "\n",
    "    # Analyze results\n",
    "    sobol_indices = {\n",
    "        target: local_analyze(\n",
    "            problem, np.array(errors)\n",
    "        )\n",
    "        for target, errors in zip(\n",
    "            [\"pvap\", \"rho\"], [pvap_errors, rho_errors]\n",
    "        )\n",
    "    }\n",
    "    return sobol_indices"
   ]
  },
  {
   "cell_type": "code",
   "execution_count": 138,
   "id": "8fe5b456-6666-4533-ba6b-805bc08367bb",
   "metadata": {},
   "outputs": [
    {
     "name": "stderr",
     "output_type": "stream",
     "text": [
      "100%|███████████████████████████████████████████████████████████████████████████| 1200/1200 [05:59<00:00,  3.33it/s]\n"
     ]
    }
   ],
   "source": [
    "smiles_list = pcp_saft_sepp[\"Smiles\"].unique()\n",
    "sensitivity_indices = {}\n",
    "skipped_list = []\n",
    "for smiles in tqdm(smiles_list):\n",
    "    # Get data\n",
    "    initial_params = pcp_saft_sepp[\n",
    "        pcp_saft_sepp[\"Smiles\"]==smiles\n",
    "    ].iloc[0].to_dict()\n",
    "    molecule_data = dortmund[dortmund[\"smiles_1\"] == smiles]\n",
    "    \n",
    "    # Only include vapor pressure and reasonable density data \n",
    "    molecule_data = molecule_data[\n",
    "        (molecule_data[\"DEN\"].isna()) | (molecule_data[\"DEN\"]<2.5e3)\n",
    "    ]\n",
    "    \n",
    "    # Check there is enough data\n",
    "    check_1 = molecule_data[molecule_data[\"DEN\"].isna()].shape[0] < 10\n",
    "    check_2 = molecule_data[molecule_data[\"DEN\"].notnull()].shape[0] < 10\n",
    "    if check_1 or check_2:\n",
    "        skipped_list.append(smiles)\n",
    "        continue\n",
    "    \n",
    "    \n",
    "    # Check if associating\n",
    "    is_associating = initial_params[\"KAB\"]>0.\n",
    "    \n",
    "    # Run sensitivity analysis\n",
    "    try:\n",
    "        indices = sensitivity_analysis(\n",
    "            smiles, \n",
    "            molecule_data, \n",
    "            associating=is_associating,\n",
    "            initial_parameters=initial_params,\n",
    "        )\n",
    "        sensitivity_indices[smiles] = indices\n",
    "    except TypeError:\n",
    "        skipped_list.append(smiles)\n",
    "        continue"
   ]
  },
  {
   "cell_type": "code",
   "execution_count": 34,
   "id": "09a5a493-116d-4b3f-8a60-087aa85cded0",
   "metadata": {},
   "outputs": [],
   "source": [
    "from dl4thermo.extras.utils.sensitivity import pcsaft_sensitivity_analysis"
   ]
  },
  {
   "cell_type": "code",
   "execution_count": 35,
   "id": "41ca9081-34f5-4edb-848f-525276d8f073",
   "metadata": {},
   "outputs": [],
   "source": [
    "smiles_list = pcp_saft_sepp[\"Smiles\"].unique()\n",
    "smiles = smiles_list[13]\n",
    "initial_params = pcp_saft_sepp[\n",
    "    pcp_saft_sepp[\"Smiles\"]==smiles\n",
    "].iloc[0].to_dict()\n",
    "molecule_data = dortmund[dortmund[\"smiles_1\"] == smiles]\n",
    "\n",
    "# Only include vapor pressure and reasonable density data \n",
    "molecule_data = molecule_data[\n",
    "    (molecule_data[\"DEN\"].isna()) | (molecule_data[\"DEN\"]<2.5e3)\n",
    "]\n",
    "\n",
    "# Check there is enough data\n",
    "check_1 = molecule_data[molecule_data[\"DEN\"].isna()].shape[0] < 10\n",
    "check_2 = molecule_data[molecule_data[\"DEN\"].notnull()].shape[0] < 10\n",
    "if check_1 or check_2:\n",
    "    print(\"stop!!\")"
   ]
  },
  {
   "cell_type": "code",
   "execution_count": 37,
   "id": "17497ec9-0187-4778-8b9c-40c7036fbb98",
   "metadata": {},
   "outputs": [],
   "source": [
    "results = pcsaft_sensitivity_analysis(\n",
    "    smiles,\n",
    "    molecule_data=molecule_data,\n",
    "    associating=False,\n",
    "    initial_parameters=initial_params,\n",
    "    n_samples=5\n",
    ")"
   ]
  },
  {
   "cell_type": "code",
   "execution_count": 49,
   "id": "dbafcbde-63a2-4aa9-bf74-536826137f94",
   "metadata": {},
   "outputs": [
    {
     "data": {
      "text/html": [
       "<div>\n",
       "<style scoped>\n",
       "    .dataframe tbody tr th:only-of-type {\n",
       "        vertical-align: middle;\n",
       "    }\n",
       "\n",
       "    .dataframe tbody tr th {\n",
       "        vertical-align: top;\n",
       "    }\n",
       "\n",
       "    .dataframe thead th {\n",
       "        text-align: right;\n",
       "    }\n",
       "</style>\n",
       "<table border=\"1\" class=\"dataframe\">\n",
       "  <thead>\n",
       "    <tr style=\"text-align: right;\">\n",
       "      <th></th>\n",
       "      <th>sigma</th>\n",
       "      <th>m</th>\n",
       "      <th>epsilon_k</th>\n",
       "      <th>mu</th>\n",
       "      <th>epsilonAB</th>\n",
       "      <th>KAB</th>\n",
       "      <th>smiles</th>\n",
       "    </tr>\n",
       "  </thead>\n",
       "  <tbody>\n",
       "    <tr>\n",
       "      <th>S1</th>\n",
       "      <td>1.0</td>\n",
       "      <td>1.0</td>\n",
       "      <td>1.0</td>\n",
       "      <td>1.0</td>\n",
       "      <td>1.0</td>\n",
       "      <td>1.0</td>\n",
       "      <td>hello</td>\n",
       "    </tr>\n",
       "    <tr>\n",
       "      <th>S1</th>\n",
       "      <td>1.0</td>\n",
       "      <td>1.0</td>\n",
       "      <td>1.0</td>\n",
       "      <td>1.0</td>\n",
       "      <td>1.0</td>\n",
       "      <td>1.0</td>\n",
       "      <td>hello</td>\n",
       "    </tr>\n",
       "  </tbody>\n",
       "</table>\n",
       "</div>"
      ]
     },
     "execution_count": 49,
     "metadata": {},
     "output_type": "execute_result"
    }
   ],
   "source": [
    "df = results[\"pvap\"][[\"S1\"]].T \n",
    "df[\"smiles\"] = \"hello\"\n",
    "pd.concat([df, df])"
   ]
  },
  {
   "cell_type": "code",
   "execution_count": 139,
   "id": "016da409-a219-46b9-990c-b4893f24bc04",
   "metadata": {},
   "outputs": [
    {
     "data": {
      "text/html": [
       "<pre style=\"white-space:pre;overflow-x:auto;line-height:normal;font-family:Menlo,'DejaVu Sans Mono',consolas,'Courier New',monospace\"><span style=\"font-weight: bold\">&lt;</span><span style=\"color: #ff00ff; text-decoration-color: #ff00ff; font-weight: bold\">BarContainer</span><span style=\"color: #000000; text-decoration-color: #000000\"> object of </span><span style=\"color: #008080; text-decoration-color: #008080; font-weight: bold\">6</span><span style=\"color: #000000; text-decoration-color: #000000\"> artists</span><span style=\"font-weight: bold\">&gt;</span>\n",
       "</pre>\n"
      ],
      "text/plain": [
       "\u001b[1m<\u001b[0m\u001b[1;95mBarContainer\u001b[0m\u001b[39m object of \u001b[0m\u001b[1;36m6\u001b[0m\u001b[39m artists\u001b[0m\u001b[1m>\u001b[0m\n"
      ]
     },
     "metadata": {},
     "output_type": "display_data"
    },
    {
     "data": {
      "image/png": "[encoded data removed]"
     },
     "metadata": {},
     "output_type": "display_data"
    }
   ],
   "source": [
    "rho_indices = np.array([indices[\"rho\"] for indices in sensitivity_indices.values()])\n",
    "rho_indices_mean = rho_indices.mean(axis=0)\n",
    "rho_indices_std = rho_indices.std(axis=0)\n",
    "plt.bar(columns, rho_indices_mean)"
   ]
  },
  {
   "cell_type": "code",
   "execution_count": 140,
   "id": "d6c8c333-f56d-45b4-b552-560b1de5f974",
   "metadata": {},
   "outputs": [
    {
     "data": {
      "image/png": "[encoded data removed]"
     },
     "metadata": {},
     "output_type": "display_data"
    }
   ],
   "source": [
    "pvap_indices = pd.DataFrame(\n",
    "    [indices[\"pvap\"] for indices in sensitivity_indices.values()],\n",
    "    columns=columns\n",
    ")\n",
    "pvap_indices\n",
    "pvap_indices_mean = pvap_indices.mean(axis=0)\n",
    "pvap_indices_std = pvap_indices.std(axis=0)\n",
    "# fig, ax = plt.subplots(1)\n",
    "_ = plt.bar(columns, pvap_indices_mean)"
   ]
  },
  {
   "cell_type": "code",
   "execution_count": 66,
   "id": "019b3dde-86d1-49d5-aa05-45c1d32f0803",
   "metadata": {},
   "outputs": [
    {
     "name": "stdout",
     "output_type": "stream",
     "text": [
      "Original n rows: 428\n",
      "Number of density measurements: 29\n",
      "Number of vapor pressure measurements: 399\n"
     ]
    }
   ],
   "source": [
    "molecule_data = dortmund[dortmund[\"smiles_1\"] == smiles]\n",
    "print(f\"Original n rows:\", molecule_data.shape[0])\n",
    "n_rho = molecule_data[molecule_data[\"DEN\"]<2.5e3].shape[0]\n",
    "print(\"Number of density measurements:\", n_rho)\n",
    "n_pvap = molecule_data[(molecule_data[\"P\"].notnull()) & (molecule_data[\"DEN\"].isna())].shape[0]\n",
    "print(\"Number of vapor pressure measurements:\", n_pvap)"
   ]
  },
  {
   "cell_type": "markdown",
   "id": "3038fdf7-d618-4c4b-adca-dd9d98b4cc96",
   "metadata": {},
   "source": [
    "## Visualization\n"
   ]
  },
  {
   "cell_type": "code",
   "execution_count": 33,
   "id": "46614def-d23d-44be-b347-b8c28a8f8ced",
   "metadata": {},
   "outputs": [
    {
     "name": "stdout",
     "output_type": "stream",
     "text": [
      "2023-02-20 12:22:18,608 - kedro.io.data_catalog - INFO - Loading data from 'pvap_sensitivity_analysis_results' (CSVDataSet)...\n",
      "2023-02-20 12:22:18,613 - kedro.io.data_catalog - INFO - Loading data from 'rho_sensitivity_analysis_results' (CSVDataSet)...\n"
     ]
    }
   ],
   "source": [
    "pvap_df = catalog.load(\"pvap_sensitivity_analysis_results\")\n",
    "rho_df = catalog.load(\"rho_sensitivity_analysis_results\")"
   ]
  },
  {
   "cell_type": "code",
   "execution_count": 34,
   "id": "4acf4a29-bd33-4307-990d-96241eefb91f",
   "metadata": {},
   "outputs": [
    {
     "data": {
      "text/html": [
       "<pre style=\"white-space:pre;overflow-x:auto;line-height:normal;font-family:Menlo,'DejaVu Sans Mono',consolas,'Courier New',monospace\"><span style=\"color: #008080; text-decoration-color: #008080; font-weight: bold\">51</span>\n",
       "</pre>\n"
      ],
      "text/plain": [
       "\u001b[1;36m51\u001b[0m\n"
      ]
     },
     "metadata": {},
     "output_type": "display_data"
    }
   ],
   "source": [
    "len(pvap_df)"
   ]
  },
  {
   "cell_type": "code",
   "execution_count": 31,
   "id": "5f199b88-e297-46e5-a485-93951662d0ec",
   "metadata": {},
   "outputs": [
    {
     "data": {
      "image/png": "[encoded data removed]"
     },
     "metadata": {},
     "output_type": "display_data"
    }
   ],
   "source": [
    "fig, axes = plt.subplots(2,1, figsize=(10,4))\n",
    "fig.subplots_adjust(wspace=0.25)\n",
    "target_display = {\n",
    "    \"m\": r\"$m$\",\n",
    "    \"sigma\": r\"$\\sigma$\",\n",
    "    \"epsilon_k\": r\"$\\epsilon/k$\",\n",
    "    \"mu\": r\"$\\mu$\",\n",
    "    \"KAB\": r\"$\\kappa_{AB}$\",\n",
    "    \"epsilonAB\": r\"$\\epsilon_{AB}$\",\n",
    "}\n",
    "for i, (label, df) in enumerate(zip(\n",
    "    [r\"$p_{sat}$\",r\"$\\rho$\"],\n",
    "    [pvap_df, rho_df]\n",
    ")):\n",
    "    ax = axes[i]\n",
    "    df_melt = pd.melt(df.drop(\"smiles\", axis=1))\n",
    "    df_melt = df_melt.replace(target_display)\n",
    "    sns.boxplot(data=df_melt, x=\"variable\", y=\"value\",ax=ax)\n",
    "    ax.set_xlabel(\"PCP-SAFT parameter\")\n",
    "    ax.set_ylabel(f\"Sensitivity index of {label} MAPE\")"
   ]
  },
  {
   "cell_type": "code",
   "execution_count": null,
   "id": "3732b5e3-b4f1-4206-939f-0f5c77541831",
   "metadata": {},
   "outputs": [],
   "source": []
  }
 ],
 "metadata": {
  "kernelspec": {
   "display_name": "Kedro (dl4thermo)",
   "language": "python",
   "name": "kedro_dl4thermo"
  },
  "language_info": {
   "codemirror_mode": {
    "name": "ipython",
    "version": 3
   },
   "file_extension": ".py",
   "mimetype": "text/x-python",
   "name": "python",
   "nbconvert_exporter": "python",
   "pygments_lexer": "ipython3",
   "version": "3.8.15"
  }
 },
 "nbformat": 4,
 "nbformat_minor": 5
}
